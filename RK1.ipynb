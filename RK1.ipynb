{
 "cells": [
  {
   "cell_type": "code",
   "execution_count": 1,
   "id": "99839b8e",
   "metadata": {},
   "outputs": [],
   "source": [
    "import math"
   ]
  },
  {
   "cell_type": "code",
   "execution_count": 2,
   "id": "5302ef4a",
   "metadata": {},
   "outputs": [
    {
     "name": "stdout",
     "output_type": "stream",
     "text": [
      "155.99999999999986\n"
     ]
    }
   ],
   "source": [
    "def Vt_to_dBm(Vt):\n",
    "    return 10 * math.log10(Vt * 1000)\n",
    "\n",
    "def dBm_to_Vt(dBm):\n",
    "    return pow(10, (dBm / 10)) / 1000\n",
    "\n",
    "# проверка\n",
    "a = 156\n",
    "b = Vt_to_dBm(a)\n",
    "b = dBm_to_Vt(b)\n",
    "print(b)"
   ]
  },
  {
   "cell_type": "markdown",
   "id": "5bf9a239",
   "metadata": {},
   "source": [
    "# Задача 1\n",
    "Необходимо спроектировать беспроводную систему сбора информации с рабочей полосой частот 5 МГц в частотном диапазоне 2,4 ГГц для эксплуатации в открытом поле без отражений от каких-либо поверхностей. Система состоит из двух устройств, оснащённых приёмопередатчиками (двунаправленная связь с топологией \"точка-точка\"). При проектировании необходимо учитывать следующие условия:\n",
    "* для эксплуатации системы не должны требоваться какие-либо разрешительные документы по действующему законодательству РФ;\n",
    "* для применения доступны всенаправленные антенны и направленные антенны с коэффициентом усиления 20;\n",
    "* чувствительность используемых приёмопередатчиков - 90дБм.\n",
    "\n",
    "Обоснуйте выбор выходной мощности передатчиков и тип антенн устройств для получения максимальной дальности радиосвязи и оцените её значение."
   ]
  },
  {
   "cell_type": "code",
   "execution_count": 3,
   "id": "3af43c41",
   "metadata": {},
   "outputs": [],
   "source": [
    "F = 2.4 * pow(10, 9)\n",
    "# Для частотного диапазона 2.4 ГГц максимальная Эффективная Изотропно Излучаемая Мощность (EIRP)\n",
    "EIRP = 100 * pow(10, -3)  # [Вт]\n",
    "# Выбираем направленные антенны\n",
    "G_t = 20\n",
    "G_r = 20\n",
    "P_r = -90  # чувствительность приёмопередатчиков [дБм]\n",
    "P_r = dBm_to_Vt(P_r)  # минимальная принятая мощность [Вт]\n",
    "C = 299_792_458  # скорость света [м/с]"
   ]
  },
  {
   "cell_type": "markdown",
   "id": "36f2b701",
   "metadata": {},
   "source": [
    "$$ EIRP_{max} = P_t G_t $$\n",
    "\n",
    "$$ P_t = \\frac{EIRP_{max}}{G_t} $$"
   ]
  },
  {
   "cell_type": "code",
   "execution_count": 4,
   "id": "32b0fcc4",
   "metadata": {},
   "outputs": [
    {
     "name": "stdout",
     "output_type": "stream",
     "text": [
      "Максимальная мощность передатчиков: 0.005 Вт.\n"
     ]
    }
   ],
   "source": [
    "P_t = EIRP / G_t\n",
    "print(f'Максимальная мощность передатчиков: {P_t} Вт.')"
   ]
  },
  {
   "cell_type": "markdown",
   "id": "69a98c6a",
   "metadata": {},
   "source": [
    "$$ \\frac{P_r}{P_t} = G_t G_r \\Big(\\frac{\\lambda}{4 \\pi d}\\Big)^2 $$\n",
    "\n",
    "$$ \\lambda = \\frac{c}{f} $$\n",
    "\n",
    "$$ d = \\sqrt{\\frac{P_t G_t G_r}{P_r}} \\frac{c}{4 \\pi f} $$"
   ]
  },
  {
   "cell_type": "code",
   "execution_count": 5,
   "id": "ec363b05",
   "metadata": {},
   "outputs": [
    {
     "name": "stdout",
     "output_type": "stream",
     "text": [
      "Максимальная дальность радиосвязи: 14.06 км.\n"
     ]
    }
   ],
   "source": [
    "pod_kornem = math.sqrt((P_t * G_t * G_r) / P_r)\n",
    "bez_kornya = C / (4 * math.pi * F)\n",
    "distance = pod_kornem * bez_kornya\n",
    "print(f'Максимальная дальность радиосвязи: {round(distance / 1000, 2)} км.')"
   ]
  },
  {
   "cell_type": "markdown",
   "id": "2ceeca2b",
   "metadata": {},
   "source": [
    "# Задача 2\n",
    "Необходимо спроектировать беспроводную систему сбора информации в полудуплексном режиме в частотном диапазоне 869 МГц для эксплуатации в открытом поле без отражений от каких-либо поверхностей. Система состоит из базовой станции и набора устройств вокруг неё (топология \"звезда\"). При проектировании необходимо учитывать следующие условия:\n",
    "* для эксплуатации системы не должны требоваться какие-либо разрешительные документы по действующему законодательству РФ;\n",
    "* для применения доступны всенаправленные антенны и направленные антенны с коэффициентом усиления 13 дБи;\n",
    "* чувствительность используемых приёмопередатчиков -100дБм.\n",
    "\n",
    "Обоснуйте выбор выходной мощности передатчиков и тип антенн устройств для получения максимальной радиуса зоны покрытия базовой станции и оцените её значение."
   ]
  },
  {
   "cell_type": "code",
   "execution_count": 6,
   "id": "0ac28442",
   "metadata": {},
   "outputs": [],
   "source": [
    "F = 869 * pow(10, 6)  # частота [Гц]\n",
    "# Для частотного диапазона 869 МГц максимальная Эффективная Изотропно Излучаемая Мощность (EIRP)\n",
    "EIRP = 25 * pow(10, -3)  # [Вт]\n",
    "# Выбираем всенаправленную натену для базовой станции\n",
    "G_t = 1  # коэффициент усиления передающей антенны [раз]\n",
    "# и направленные для набора устройств\n",
    "G_r = 20  # коэффициент усиления принимающей антенны [раз]\n",
    "P_r = -100  # чувствительность приёмника [дБм]\n",
    "P_r = dBm_to_Vt(P_r)  # минимальная принятая мощность в [Вт]"
   ]
  },
  {
   "cell_type": "markdown",
   "id": "6a3e1142",
   "metadata": {},
   "source": [
    "$$ EIRP_{max} = P_t G_t $$\n",
    "\n",
    "$$ P_t = \\frac{EIRP_{max}}{G_t} $$"
   ]
  },
  {
   "cell_type": "code",
   "execution_count": 7,
   "id": "bf479275",
   "metadata": {},
   "outputs": [
    {
     "name": "stdout",
     "output_type": "stream",
     "text": [
      "Максимальная мощность передатчиков: 0.025 Вт.\n"
     ]
    }
   ],
   "source": [
    "P_t = EIRP / G_t\n",
    "print(f'Максимальная мощность передатчиков: {P_t} Вт.')"
   ]
  },
  {
   "cell_type": "markdown",
   "id": "a3cb7f6c",
   "metadata": {},
   "source": [
    "$$ d = \\sqrt{\\frac{P_t G_t G_r}{P_r}} \\frac{c}{4 \\pi f} $$"
   ]
  },
  {
   "cell_type": "code",
   "execution_count": 8,
   "id": "e9a33e08",
   "metadata": {},
   "outputs": [
    {
     "name": "stdout",
     "output_type": "stream",
     "text": [
      "Максимальный радиус зоны покрытия базовой станции: 61.39 км.\n"
     ]
    }
   ],
   "source": [
    "pod_kornem = math.sqrt((P_t * G_t * G_r) / P_r)\n",
    "bez_kornya = C / (4 * math.pi * F)\n",
    "distance = pod_kornem * bez_kornya\n",
    "print(f'Максимальный радиус зоны покрытия базовой станции: {round(distance / 1000, 2)} км.')"
   ]
  },
  {
   "cell_type": "markdown",
   "id": "08b01221",
   "metadata": {},
   "source": [
    "# Задача 3\n",
    "В беспроводной системе мобильной связи с несущей частотой 1800 МГц средняя мощность принимаемого сигнала составляет -80 дБм. Если мощность принятого сигнала окажется ниже -100 дБм в течении 500 мкс и боллее, то качество связи становится неприемлемым. Предполагая, что имеет место канал с релеевскими замираниями, определите диапазон значений скорости передвижения устройств в системе, при которых не будет возникать подобных ситуаций, т.е. можно будет пренебречь влиянием глубоких замираний."
   ]
  },
  {
   "cell_type": "code",
   "execution_count": 9,
   "id": "e8bdc6ea",
   "metadata": {},
   "outputs": [
    {
     "name": "stdout",
     "output_type": "stream",
     "text": [
      "Средняя мощность принимаемого сигнала P_r: 1.0000000000000001e-11.\n",
      "Пороговая мощностьа P_0: 1e-13.\n"
     ]
    }
   ],
   "source": [
    "F = 1800 * pow(10, 6)  # частота [Гц]\n",
    "P_r = -80   # средняя мощность принимаемого сигнала [дБм]\n",
    "P_r = dBm_to_Vt(P_r)  # средняя мощность принимаемого сигнала [Вт]\n",
    "P_0 = -100  # пороговая мощность [дБм]\n",
    "P_0 = dBm_to_Vt(P_0)  # пороговая мощность [Вт]\n",
    "t = 500 * pow(10, -6)  # [с]\n",
    "\n",
    "print(f'Средняя мощность принимаемого сигнала P_r: {P_r}.')\n",
    "print(f'Пороговая мощностьа P_0: {P_0}.')"
   ]
  },
  {
   "cell_type": "markdown",
   "id": "d1dfbf8e",
   "metadata": {},
   "source": [
    "$$ \\rho = \\sqrt{\\frac{P_0}{P_r}} $$"
   ]
  },
  {
   "cell_type": "code",
   "execution_count": 10,
   "id": "cf9087a9",
   "metadata": {},
   "outputs": [
    {
     "name": "stdout",
     "output_type": "stream",
     "text": [
      "rho: 0.09999999999999999.\n"
     ]
    }
   ],
   "source": [
    "rho = math.sqrt(P_0 / P_r)\n",
    "print(f'rho: {rho}.')"
   ]
  },
  {
   "cell_type": "markdown",
   "id": "93fd048b",
   "metadata": {},
   "source": [
    "Средняя длительность замирания\n",
    "\n",
    "$$ t_z = \\frac{e^{\\rho^2} - 1}{\\rho f_{Dm} \\sqrt{2 \\pi}} $$\n",
    "\n",
    "$$ f_{Dm} = \\frac{e^{\\rho^2} - 1}{t_z \\rho \\sqrt{2 \\pi}} $$"
   ]
  },
  {
   "cell_type": "code",
   "execution_count": 11,
   "id": "de729a96",
   "metadata": {},
   "outputs": [
    {
     "name": "stdout",
     "output_type": "stream",
     "text": [
      "Максимальное смещение из-за эффекта Доплера: 80.19 Гц.\n"
     ]
    }
   ],
   "source": [
    "chislitel = math.exp(rho ** 2) - 1\n",
    "znamenatel = t * rho * math.sqrt(2 * math.pi)\n",
    "F_Dm = chislitel / znamenatel\n",
    "print(f'Максимальное смещение из-за эффекта Доплера: {round(F_Dm, 2)} Гц.')"
   ]
  },
  {
   "cell_type": "markdown",
   "id": "d19a6977",
   "metadata": {},
   "source": [
    "$$ f_Dm = \\frac{\\upsilon}{\\lambda} = \\frac{\\upsilon f}{c} $$\n",
    "\n",
    "$$ \\upsilon = \\frac{f_{Dm} c}{f} $$"
   ]
  },
  {
   "cell_type": "code",
   "execution_count": 12,
   "id": "f1e6ffad",
   "metadata": {},
   "outputs": [
    {
     "name": "stdout",
     "output_type": "stream",
     "text": [
      "Скорость: 13.36 м/c.\n"
     ]
    }
   ],
   "source": [
    "V = (F_Dm * C) / F\n",
    "print(f'Скорость: {round(V, 2)} м/c.')"
   ]
  }
 ],
 "metadata": {
  "kernelspec": {
   "display_name": "Python 3 (ipykernel)",
   "language": "python",
   "name": "python3"
  },
  "language_info": {
   "codemirror_mode": {
    "name": "ipython",
    "version": 3
   },
   "file_extension": ".py",
   "mimetype": "text/x-python",
   "name": "python",
   "nbconvert_exporter": "python",
   "pygments_lexer": "ipython3",
   "version": "3.8.3"
  }
 },
 "nbformat": 4,
 "nbformat_minor": 5
}
