{
 "cells": [
  {
   "cell_type": "markdown",
   "id": "7e3079ac",
   "metadata": {},
   "source": [
    "# Задача 1 \n",
    "## Вариант 1\n",
    "В первоначальном виде беспроводной системе связи требуется полоса частот 100 кГц и отношение энергии бита к спектральномй плотности мощности шума 3 Дб, но для повышения её помехозащищённости принято решение использовать метод DSSS с кодом длиной 16 символов или метод FHSS в полосе частот 2 МГц. Какое будет отношение $ \\frac{E_b}{N_0} $ при использовании каждого из указанных методов? Какой из указанных вариантов более целесообразно использовать с точки зрения помехозащищённости?"
   ]
  },
  {
   "cell_type": "code",
   "execution_count": null,
   "id": "f7e47dde",
   "metadata": {},
   "outputs": [],
   "source": []
  }
 ],
 "metadata": {
  "kernelspec": {
   "display_name": "Python 3 (ipykernel)",
   "language": "python",
   "name": "python3"
  },
  "language_info": {
   "codemirror_mode": {
    "name": "ipython",
    "version": 3
   },
   "file_extension": ".py",
   "mimetype": "text/x-python",
   "name": "python",
   "nbconvert_exporter": "python",
   "pygments_lexer": "ipython3",
   "version": "3.8.3"
  }
 },
 "nbformat": 4,
 "nbformat_minor": 5
}
